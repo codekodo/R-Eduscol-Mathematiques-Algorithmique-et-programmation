{
 "cells": [
  {
   "cell_type": "markdown",
   "metadata": {
    "tags": [
     "dés",
     "seconde"
    ]
   },
   "source": [
    "# Jeu de dés"
   ]
  },
  {
   "cell_type": "markdown",
   "metadata": {
    "tags": [
     "fréquence",
     "simulation",
     "combinatoire",
     "probabilité",
     "dénombrement",
     "fluctuation",
     "échantillonnage"
    ]
   },
   "source": [
    "## Présentation de l'activité\n",
    "- **Niveau de classe :**\n",
    " - Classe de seconde générale et technologique\n",
    "- **Références au programme :** \n",
    " - Seconde : *Lire et comprendre une fonction Python renvoyant le nombre ou la fréquence de succès dans un échantillon de taille 𝑛 pour une expérience aléatoire à deux issues*.\n",
    " - Seconde : *Observer la loi des grands nombres à l’aide d’une simulation sur Python*.\n",
    " - Seconde : *Simuler $N$ échantillons de taille $n$ d’une expérience aléatoire à deux issues. Si $p$ est la probabilité d’une issue et $f$ sa fréquence observée dans un échantillon, calculer la proportion des cas où l’écart entre $p$ et $f$ est inférieur ou égal à $\\frac{1}{\\sqrt{n}}$*.\n",
    "- **Description de l'activité :** cette activité propose un jeu de dés qui débouche sur deux issues (gagner ou perdre). Dans un premier temps, on écrit un programme permettant de dénombrer tous les cas (favorables et possibles) et d'en déduire la probabilité $p$ de gagner au cours du jeu. Cela sensibilise les élèves à l'intérêt de la programmation lorsqu'en l'absence de raisonnement combinatoire, on est obligé de dénombrer tous les cas. Dans un deuxième temps, on simule des échantillons de différentes tailles de manière à visualiser la stabilisation des fréquences lorsque la taille des échantillons croît. Dans un troisième temps, on simule $N$ échantillons de même taille $n$ et on calcule la proportion des cas où l'écart entre la probabilité $p$ et la fréquence de succès dans l'échantillon est inférieure à $\\frac{1}{\\sqrt{n}}$.\n",
    "\n",
    "\n"
   ]
  },
  {
   "cell_type": "markdown",
   "metadata": {
    "colab_type": "text",
    "id": "6jXpTMjpS0zI"
   },
   "source": [
    "## Situation\n",
    "Le jour de la Fête de la science, des étudiants organisent un jeu : le joueur lance 3 dés cubiques (un rouge, un vert, un bleu) bien équilibrés dont les faces sont numérotées de $1$ à $6$. S’il arrive à construire un triangle (non aplati) dont les côtés ont pour mesure les valeurs des faces obtenues, il gagne, sinon il perd.\n"
   ]
  },
  {
   "cell_type": "markdown",
   "metadata": {},
   "source": [
    "<div class=\"alert alert-info\">\n",
    "\n",
    "Suggestions pédagogiques\n",
    "\n",
    "</div>\n",
    "\n",
    "* **Mathématiques débranchées** :\n",
    "\n",
    "Un débat peut être amené sur la possibilité de construire un triangle dont les côtés ont des mesures données.\n",
    "On peut aussi discuter des cas limites (cas d'égalité). "
   ]
  },
  {
   "cell_type": "markdown",
   "metadata": {
    "colab_type": "text",
    "id": "II0Do9TLIMAY"
   },
   "source": [
    "## Programmation d'une partie"
   ]
  },
  {
   "cell_type": "markdown",
   "metadata": {
    "colab_type": "text",
    "id": "C5BwQIl1IUZW"
   },
   "source": [
    "La fonction suivante prend en paramètres trois nombres entiers correspondant aux valeurs des faces des trois dés et renvoie $1$ si la partie est gagnée et $0$ sinon."
   ]
  },
  {
   "cell_type": "code",
   "execution_count": 1,
   "metadata": {
    "colab": {},
    "colab_type": "code",
    "id": "XSPuo_wOIyzr"
   },
   "outputs": [
    {
     "name": "stdout",
     "output_type": "stream",
     "text": [
      "1\n",
      "0\n",
      "0\n"
     ]
    }
   ],
   "source": [
    "def partie(d1, d2, d3) : \n",
    "    sommeDesTroisCotes = d1 + d2 + d3\n",
    "    grand = max(d1, d2, d3)\n",
    "    sommeDesDeuxAutresCotes = sommeDesTroisCotes - grand\n",
    "    if grand < sommeDesDeuxAutresCotes: \n",
    "        return 1\n",
    "    else : \n",
    "        return 0 \n",
    "  \n",
    "# Tests \n",
    "print(partie(2,3,4))\n",
    "print(partie(1,2,3))\n",
    "print(partie(1,1,4))"
   ]
  },
  {
   "cell_type": "markdown",
   "metadata": {
    "colab_type": "text",
    "id": "uxOiOqzSJVkv"
   },
   "source": [
    "<div class=\"alert alert-info\">\n",
    "\n",
    "Suggestions pédagogiques\n",
    "</div>\n",
    "\n",
    " **Compléter un programme**\n",
    "\n",
    "  Le programme précédent étant fourni en remplaçant les lignes 2, 3, 4 et 5 par `sommeDesTroisCotes = ...`, `grand = ...`, `sommeDesDeuxAutresCotes = ...`et `if ...`, demander aux élèves de compléter les lignes 2, 3, 4 et 5. \n",
    "\n",
    "                                "
   ]
  },
  {
   "cell_type": "markdown",
   "metadata": {},
   "source": [
    "<div class=\"alert alert-success\">\n",
    "<details>\n",
    "    <summary>Réponse</summary>\n",
    "    \n",
    "    `if 2*grand < d1 + d2 + d3` \n",
    "    \n",
    "</details>\n",
    "</div>    \n",
    " \n"
   ]
  },
  {
   "cell_type": "markdown",
   "metadata": {
    "colab_type": "text",
    "id": "c36R7LC5KODu"
   },
   "source": [
    "## Calcul de la probabilité de gagner\n",
    "À l'aide de boucles imbriquées, on calcule le nombre de toutes les issues possibles (total) lors du jeu et le nombre de celles qui permettent de gagner (favorable). Le quotient favorable/total donne alors la probabilité de gagner lors d'une partie."
   ]
  },
  {
   "cell_type": "code",
   "execution_count": 2,
   "metadata": {
    "colab": {
     "base_uri": "https://localhost:8080/",
     "height": 34
    },
    "colab_type": "code",
    "executionInfo": {
     "elapsed": 1567,
     "status": "ok",
     "timestamp": 1557209960915,
     "user": {
      "displayName": "Mouny Samy Modeliar - adresse universite",
      "photoUrl": "",
      "userId": "03836217073348471726"
     },
     "user_tz": -120
    },
    "id": "7sPHUvtSVZvA",
    "outputId": "8a9190db-dcc9-4cd2-8c0b-ed7db06ebdc9"
   },
   "outputs": [
    {
     "name": "stdout",
     "output_type": "stream",
     "text": [
      "111 216\n",
      "0.5138888888888888\n"
     ]
    }
   ],
   "source": [
    "favorable, total = 0, 0\n",
    "for d1 in range(1,7) : \n",
    "    for d2 in range(1,7) : \n",
    "        for d3 in range(1,7) : \n",
    "            if partie(d1, d2, d3) == 1: \n",
    "                favorable = favorable + 1\n",
    "            total = total + 1\n",
    "print(favorable, total)\n",
    "print(favorable/total)"
   ]
  },
  {
   "cell_type": "markdown",
   "metadata": {
    "colab_type": "text",
    "id": "sbRAzWi3V4r6"
   },
   "source": [
    "*On en déduit la probabilité $p=\\dfrac{111}{216}\\approx 0,51$*."
   ]
  },
  {
   "cell_type": "markdown",
   "metadata": {
    "colab_type": "text",
    "id": "buVvWi_uLK8f"
   },
   "source": [
    "<div class=\"alert alert-info\">\n",
    "\n",
    "Suggestions pédagogiques\n",
    "\n",
    "</div>\n",
    "\n",
    "- **Écrire un programme**\n",
    "\n",
    "    Écrire un programme qui permet de calculer le nombre exact de cas favorables et le nombre de cas possibles.\n",
    "- **Compléter un programme**\n",
    "\n",
    " Le programme précédent étant fourni en remplaçant les lignes 5, 6 et 7. par `if ...`, `favorable = ...` et `total = ...`, demander aux élèves de compléter les lignes 5, 6 et 7.  "
   ]
  },
  {
   "cell_type": "markdown",
   "metadata": {
    "colab_type": "text",
    "id": "Adrj_jGWWjdN"
   },
   "source": [
    "## Calcul de la fréquence des parties gagnées dans un échantillon simulé\n",
    "On calcule la fréquence des parties gagnées sur un échantillon de $n$ parties simulées.\n",
    "La fonction `echantillon` prend en paramètre l'entier $n$ (taille de l'échantillon) et renvoie la proportion de parties gagnées sur cet échantillon."
   ]
  },
  {
   "cell_type": "code",
   "execution_count": 11,
   "metadata": {
    "colab": {
     "base_uri": "https://localhost:8080/",
     "height": 34
    },
    "colab_type": "code",
    "executionInfo": {
     "elapsed": 1513,
     "status": "ok",
     "timestamp": 1557209960923,
     "user": {
      "displayName": "Mouny Samy Modeliar - adresse universite",
      "photoUrl": "",
      "userId": "03836217073348471726"
     },
     "user_tz": -120
    },
    "id": "smPy0bnCZnb_",
    "outputId": "fa048668-e5d8-4e6a-a67a-647fdc73495b"
   },
   "outputs": [
    {
     "name": "stdout",
     "output_type": "stream",
     "text": [
      "0.6\n",
      "0.55\n",
      "0.525\n",
      "0.521\n"
     ]
    }
   ],
   "source": [
    "from random import randint\n",
    "def echantillon(n) : \n",
    "    gagne = 0\n",
    "    for i in range(n) :\n",
    "        d1 =  randint(1,6)\n",
    "        d2 =  randint(1,6)\n",
    "        d3 =  randint(1,6)\n",
    "        gagne = gagne + partie(d1, d2, d3) # On peut préférer pédagogiquement un if\n",
    "    return gagne / n\n",
    "\n",
    "print(echantillon(10))\n",
    "print(echantillon(100))\n",
    "print(echantillon(1000))\n",
    "print(echantillon(1000))"
   ]
  },
  {
   "cell_type": "markdown",
   "metadata": {
    "colab_type": "text",
    "id": "lqDJs320ZhZZ"
   },
   "source": [
    "<div class=\"alert alert-info\">\n",
    "\n",
    "Suggestions pédagogiques\n",
    "\n",
    "</div>\n",
    "\n",
    "- **Compléter un programme**\n",
    "\n",
    " Le programme précédent étant fourni en remplaçant les lignes 5 à 8 par `d1 = ...`, `d2 = ...`, `d3 = ...` et `gagne = ...`, demander aux élèves de compléter les lignes 5 à 8 dans manière à simuler `n` parties et à compter dans la variable `gagne` le nombre de parties gagnées (en utilisant la fonction `partie`).\n",
    "- **Expliquer un programme**\n",
    "\n",
    "    Expliquer la ligne 8. \n"
   ]
  },
  {
   "cell_type": "markdown",
   "metadata": {},
   "source": [
    "## Fluctuation de la fréquence des parties gagnées dans plusieurs échantillons simulés\n",
    "\n",
    "Le programme suivant affiche des listes contenant les proportions (ou fréquences) de parties gagnées  pour 10 échantillons de taille 10, puis 10 échantillons de taille 100 et enfin 10 échantillons de taille 1000."
   ]
  },
  {
   "cell_type": "code",
   "execution_count": 4,
   "metadata": {
    "colab": {
     "base_uri": "https://localhost:8080/",
     "height": 69
    },
    "colab_type": "code",
    "executionInfo": {
     "elapsed": 1452,
     "status": "ok",
     "timestamp": 1557209960933,
     "user": {
      "displayName": "Mouny Samy Modeliar - adresse universite",
      "photoUrl": "",
      "userId": "03836217073348471726"
     },
     "user_tz": -120
    },
    "id": "1qS69trZLE66",
    "outputId": "b7834277-6185-4a17-9439-8152c4b9ada1"
   },
   "outputs": [
    {
     "name": "stdout",
     "output_type": "stream",
     "text": [
      "[0.5, 0.4, 0.3, 0.6, 0.5, 0.9, 0.6, 0.6, 0.7, 0.5]\n",
      "[0.55, 0.46, 0.46, 0.46, 0.44, 0.59, 0.49, 0.53, 0.55, 0.51]\n",
      "[0.505, 0.533, 0.52, 0.501, 0.512, 0.504, 0.509, 0.505, 0.524, 0.53]\n"
     ]
    }
   ],
   "source": [
    "print([echantillon(10) for i in range(10)])\n",
    "print([echantillon(100) for i in range(10)])\n",
    "print([echantillon(1000) for i in range(10)])"
   ]
  },
  {
   "cell_type": "markdown",
   "metadata": {
    "colab_type": "text",
    "id": "6PjxeEkwW5SA"
   },
   "source": [
    "<div class=\"alert alert-info\">\n",
    "\n",
    "Suggestions pédagogiques\n",
    "\n",
    "</div>\n",
    "\n",
    "- **Observer**\n",
    "\n",
    "    Que constate-t-on dans les listes précédentes ?\n"
   ]
  },
  {
   "cell_type": "markdown",
   "metadata": {
    "colab_type": "text",
    "id": "1NMsUVBlajdS"
   },
   "source": [
    "La fonction ci-dessous permet de réaliser $N=100$ simulations différentes d'échantillons de $n=1000$ parties. \n",
    "\n",
    "On a représenté par des points les fréquences obtenues : \n",
    "- en vert les fréquences qui sont dans l'intervalle $[ p-\\frac{1}{\\sqrt n} ; p+\\frac{1}{\\sqrt n} ]$, \n",
    "- en rouge celles qui ne le sont pas. "
   ]
  },
  {
   "cell_type": "code",
   "execution_count": 14,
   "metadata": {
    "colab": {
     "base_uri": "https://localhost:8080/",
     "height": 269
    },
    "colab_type": "code",
    "executionInfo": {
     "elapsed": 1788,
     "status": "ok",
     "timestamp": 1557209961289,
     "user": {
      "displayName": "Mouny Samy Modeliar - adresse universite",
      "photoUrl": "",
      "userId": "03836217073348471726"
     },
     "user_tz": -120
    },
    "id": "aq0FpQ91aiag",
    "outputId": "5d78ec9d-eef9-4e48-e6fc-21d37a1053fe"
   },
   "outputs": [
    {
     "data": {
      "image/png": "[encoded data removed]",
      "text/plain": [
       "<Figure size 432x288 with 1 Axes>"
      ]
     },
     "metadata": {
      "needs_background": "light"
     },
     "output_type": "display_data"
    }
   ],
   "source": [
    "%matplotlib inline\n",
    "from matplotlib import pyplot as plt\n",
    "from math import sqrt\n",
    "n, p = 1000, 111/216\n",
    "N = 100\n",
    "mini, maxi = p-1/sqrt(n), p+1/sqrt(n)\n",
    "for repet in range(N) : \n",
    "    f = echantillon(n)\n",
    "    if mini < f < maxi : \n",
    "        plt.plot(repet, f, \"go\")\n",
    "    else : \n",
    "        plt.plot(repet, f, \"ro\")\n",
    "plt.plot([0,repet],[p, p], \"m--\")\n",
    "plt.plot([0,repet],[mini, mini], \"k--\")\n",
    "plt.plot([0,repet],[maxi, maxi], \"k--\")\n",
    "plt.show()"
   ]
  },
  {
   "cell_type": "markdown",
   "metadata": {},
   "source": [
    "<div class=\"alert alert-info\">\n",
    "\n",
    "Suggestions pédagogiques\n",
    "\n",
    "</div>\n",
    "\n",
    "- **Tester** le programme pour différentes valeurs de $n$.\n",
    "- **Compléter** le programme précédent pour calculer le nombre de cas où l'écart entre la fréquence de gagner au cours de $n$ parties et la probabilité $p$ est inférieur ou égal à $\\frac{1}{\\sqrt{n}}$ (on prendra toujours $N=100$ échantillons).\n",
    "- **Écrire** une fonction qui prend en argument le nombre $n$ de parties et qui renvoie le nombre de cas où l'écart entre la fréquence de gagner au cours des $n$ parties et la probabilité $p$ est inférieur ou égal à $\\frac{1}{\\sqrt{n}}$. Le nombre d'échantillons est fixé, par exemple à $N=100$.\n"
   ]
  }
 ],
 "metadata": {
  "celltoolbar": "Tags",
  "colab": {
   "collapsed_sections": [],
   "name": "des.ipynb",
   "provenance": [],
   "version": "0.3.2"
  },
  "kernelspec": {
   "display_name": "Python 3",
   "language": "python",
   "name": "python3"
  },
  "language_info": {
   "codemirror_mode": {
    "name": "ipython",
    "version": 3
   },
   "file_extension": ".py",
   "mimetype": "text/x-python",
   "name": "python",
   "nbconvert_exporter": "python",
   "pygments_lexer": "ipython3",
   "version": "3.5.5"
  }
 },
 "nbformat": 4,
 "nbformat_minor": 1
}
