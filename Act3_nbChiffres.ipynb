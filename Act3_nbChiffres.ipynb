{
 "cells": [
  {
   "cell_type": "markdown",
   "metadata": {},
   "source": [
    "# Nombre de chiffres d'un nombre donné"
   ]
  },
  {
   "cell_type": "markdown",
   "metadata": {
    "tags": [
     "Puissance",
     "entier",
     "chiffres",
     "seconde"
    ]
   },
   "source": [
    "## Présentation de l'activité\n",
    "- **Niveau de classe :**\n",
    " - Classe de seconde générale et technologique\n",
    "- **Référence au programme :** \n",
    " - Seconde: *Déterminer la première puissance d’un nombre positif donné supérieure ou inférieure à une valeur donnée*.\n",
    "- **Description :**  activité de décompte du nombre de chiffres d'un nombre fixé permettant de faire travailler la notion de puissance et de faire réfléchir sur la notion de base."
   ]
  },
  {
   "cell_type": "markdown",
   "metadata": {
    "colab_type": "text",
    "id": "5V-bYSgDQR-C"
   },
   "source": [
    "## Cas général\n",
    "Dans cette partie, on cherche à écrire un programme qui détermine le nombre de chiffres de l’écriture décimale d’un entier naturel. Pour cela, on remarque que $10^n$ a exactement $n+1$ chiffres. "
   ]
  },
  {
   "cell_type": "markdown",
   "metadata": {
    "colab_type": "text",
    "id": "pobLOJiLRER_"
   },
   "source": [
    "<div class=\"alert alert-info\">\n",
    "\n",
    "Suggestions pédagogiques\n",
    "\n",
    "</div>\n",
    "\n",
    "* **Mathématiques débranchées**\n",
    "\n",
    "    De combien de chiffres est constituée l'écriture d'un nombre entier $a$ tel que $10^4\\leqslant a < 10^5$ ? tel que $10^n\\leqslant a < 10^{n+1}$ ?"
   ]
  },
  {
   "cell_type": "markdown",
   "metadata": {},
   "source": [
    "La fonction `nombreChiffres` prend en paramètre un entier naturel $a$ non nul et renvoie\n",
    "l’exposant de la plus petite puissance de $10$ ($\\geqslant 1$) strictement supérieure au nombre $a$ (cela correspond au nombre de chiffres de $a$)."
   ]
  },
  {
   "cell_type": "code",
   "execution_count": 6,
   "metadata": {
    "ExecuteTime": {
     "end_time": "2019-07-12T09:02:51.596405Z",
     "start_time": "2019-07-12T09:02:51.570002Z"
    },
    "colab": {
     "base_uri": "https://localhost:8080/",
     "height": 34
    },
    "colab_type": "code",
    "executionInfo": {
     "elapsed": 845,
     "status": "ok",
     "timestamp": 1554800326186,
     "user": {
      "displayName": "Mouny Samy Modeliar - adresse universite",
      "photoUrl": "",
      "userId": "03836217073348471726"
     },
     "user_tz": -120
    },
    "id": "0jn4AJO8SVvl",
    "outputId": "2dbf1c0b-d38c-47cf-b5f5-497b40cda9c0"
   },
   "outputs": [
    {
     "data": {
      "text/plain": [
       "3"
      ]
     },
     "execution_count": 6,
     "metadata": {},
     "output_type": "execute_result"
    }
   ],
   "source": [
    "def nombreChiffres(a):\n",
    "    n = 0\n",
    "    while 10**n <= a:\n",
    "        n = n+1\n",
    "    return n\n",
    "puissance(109)"
   ]
  },
  {
   "cell_type": "markdown",
   "metadata": {
    "colab_type": "text",
    "id": "uLLnkpEuSsGz"
   },
   "source": [
    "<div class=\"alert alert-info\">\n",
    "\n",
    "Suggestions pédagogiques\n",
    "\n",
    "</div>\n",
    "\n",
    "* **Expliquer un programme**\n",
    "\n",
    "    À quelle condition s'arrête la boucle while ? À quoi servent les lignes 2 et 4 ?\n",
    "* **Compléter un programme**\n",
    "\n",
    "     Le programme précédent étant fourni en remplaçant les lignes 2, 3 et 4  par `n=...`, `while ...` et `n=...`, demander aux élèves de compléter les lignes 2, 3 et 4. \n",
    "* **Écrire un programme**\n",
    "\n",
    "    Écrire une fonction prenant en entrée un entier $a$ et renvoyant l'exposant de la plus petite puissance de $10$ strictement supérieure à $a$.\n",
    "\n",
    "* **Remarque** \n",
    "    On peut ajouter une ligne au début de la fonction pour vérifier que $a$ est un entier strictement positif:\n",
    "`assert type(a)==int and a>0,'Attention a doit etre un entier positif'`"
   ]
  },
  {
   "cell_type": "markdown",
   "metadata": {},
   "source": [
    "## Cas des puissances de $2$"
   ]
  },
  {
   "cell_type": "markdown",
   "metadata": {
    "colab_type": "text",
    "id": "iA38eCpOUxkW"
   },
   "source": [
    "Comme application, on cherche maintenant à connaître le nombre de chiffres des puissances de $2$."
   ]
  },
  {
   "cell_type": "markdown",
   "metadata": {},
   "source": [
    "<div class=\"alert alert-info\">\n",
    "\n",
    "Suggestions pédagogiques\n",
    "\n",
    "</div>\n",
    "\n",
    "* **Tester un programme**\n",
    "\n",
    "    En utilisant le programme `nombreChiffres`, déterminer le nombre de chiffres des nombres $2^{10}$, $2^{64}$ et $2^{100}$ . "
   ]
  },
  {
   "cell_type": "code",
   "execution_count": 7,
   "metadata": {
    "ExecuteTime": {
     "end_time": "2019-07-12T09:03:12.557526Z",
     "start_time": "2019-07-12T09:03:12.545778Z"
    },
    "colab": {
     "base_uri": "https://localhost:8080/",
     "height": 69
    },
    "colab_type": "code",
    "executionInfo": {
     "elapsed": 880,
     "status": "ok",
     "timestamp": 1554801031101,
     "user": {
      "displayName": "Mouny Samy Modeliar - adresse universite",
      "photoUrl": "",
      "userId": "03836217073348471726"
     },
     "user_tz": -120
    },
    "id": "LDsTb0YgVVch",
    "outputId": "fd2ef51e-7635-45a9-bc8c-8e398d5dca5f"
   },
   "outputs": [
    {
     "data": {
      "text/plain": [
       "(4, 20, 31)"
      ]
     },
     "execution_count": 7,
     "metadata": {},
     "output_type": "execute_result"
    }
   ],
   "source": [
    "nombreChiffres(2**10), nombreChiffres(2**64), nombreChiffres(2**100)"
   ]
  },
  {
   "cell_type": "markdown",
   "metadata": {
    "colab_type": "text",
    "id": "K1wyNkkeVvcy"
   },
   "source": [
    "<div class=\"alert alert-info\">\n",
    "\n",
    "Suggestions pédagogiques\n",
    "\n",
    "</div>\n",
    "\n",
    "* **Tester un programme**\n",
    "\n",
    "     Calculer $2^{10}$ et dire si le dernier résultat est cohérent."
   ]
  },
  {
   "cell_type": "markdown",
   "metadata": {
    "colab_type": "text",
    "id": "qjGf-1uwWz4_"
   },
   "source": [
    "<div class=\"alert alert-success\">\n",
    "<details>\n",
    "    <summary>Réponse</summary>\n",
    "\n",
    "$2^{10}\\simeq 10^3$, on peut donc avoir l'idée que $2^{100}=(2^{10})^{10}$ sera estimé par $(10^3)^{10}=10^{30}$. On retrouve les $30$ chiffres annoncés. \n",
    "    \n",
    "</details>\n",
    "</div>"
   ]
  },
  {
   "cell_type": "markdown",
   "metadata": {
    "colab_type": "text",
    "id": "TIdIKTSDWEGT"
   },
   "source": [
    "## Représentation du nombre de chiffres des puissances de $2$\n",
    "Dans cette partie, nous cherchons à représenter l'évolution du nombre de chiffres des puissances de $2$."
   ]
  },
  {
   "cell_type": "code",
   "execution_count": 13,
   "metadata": {
    "ExecuteTime": {
     "end_time": "2019-07-12T09:03:30.031475Z",
     "start_time": "2019-07-12T09:03:29.452779Z"
    }
   },
   "outputs": [],
   "source": [
    "%matplotlib inline\n",
    "import matplotlib.pyplot as plt"
   ]
  },
  {
   "cell_type": "markdown",
   "metadata": {},
   "source": [
    "Afin de représenter l'évolution du nombre de chiffres des puissances de $2$, nous allons placer au fur et à mesure les points $(i,2^i)$ pour $i$ parcourant les $n$ premiers entiers ($n$ variables fixées)."
   ]
  },
  {
   "cell_type": "code",
   "execution_count": 26,
   "metadata": {
    "ExecuteTime": {
     "end_time": "2019-07-12T09:03:33.11546Z",
     "start_time": "2019-07-12T09:03:32.395524Z"
    },
    "colab": {
     "base_uri": "https://localhost:8080/",
     "height": 347
    },
    "colab_type": "code",
    "executionInfo": {
     "elapsed": 820,
     "status": "ok",
     "timestamp": 1554801245989,
     "user": {
      "displayName": "Mouny Samy Modeliar - adresse universite",
      "photoUrl": "",
      "userId": "03836217073348471726"
     },
     "user_tz": -120
    },
    "id": "jz1xSZ0cWPaM",
    "outputId": "50000afc-5a73-4a29-9151-7694cc84c5aa"
   },
   "outputs": [
    {
     "data": {
      "image/png": "[encoded data removed]",
      "text/plain": [
       "<Figure size 432x288 with 1 Axes>"
      ]
     },
     "metadata": {
      "needs_background": "light"
     },
     "output_type": "display_data"
    }
   ],
   "source": [
    "n = 100\n",
    "\n",
    "for i in range(n):\n",
    "    plt.plot(i,nombreChiffres(2**i),'c.')\n",
    "    \n",
    "plt.grid(True)\n",
    "plt.show()"
   ]
  },
  {
   "cell_type": "markdown",
   "metadata": {},
   "source": [
    "<div class=\"alert alert-info\">\n",
    "\n",
    "Suggestions pédagogiques\n",
    "\n",
    "</div>\n",
    "\n",
    "* **Décrire**\n",
    "\n",
    "    Qu'est-ce qui explique la forme «en escalier» de cette représentation graphique ? Quelle est la forme approximative de cette courbe ?\n",
    "    \n",
    "*  **Compléter un programme**\n",
    "\n",
    "     Le programme précédent étant fourni en remplaçant la ligne 4 par `plt.plot(i,...,'c.')`, demander aux élèves de compléter la ligne 4. "
   ]
  }
 ],
 "metadata": {
  "celltoolbar": "Tags",
  "colab": {
   "name": "nbChiffres.ipynb",
   "provenance": [],
   "version": "0.3.2"
  },
  "kernelspec": {
   "display_name": "Python 3",
   "language": "python",
   "name": "python3"
  },
  "language_info": {
   "codemirror_mode": {
    "name": "ipython",
    "version": 3
   },
   "file_extension": ".py",
   "mimetype": "text/x-python",
   "name": "python",
   "nbconvert_exporter": "python",
   "pygments_lexer": "ipython3",
   "version": "3.5.5"
  },
  "varInspector": {
   "cols": {
    "lenName": 16,
    "lenType": 16,
    "lenVar": 40
   },
   "kernels_config": {
    "python": {
     "delete_cmd_postfix": "",
     "delete_cmd_prefix": "del ",
     "library": "var_list.py",
     "varRefreshCmd": "print(var_dic_list())"
    },
    "r": {
     "delete_cmd_postfix": ") ",
     "delete_cmd_prefix": "rm(",
     "library": "var_list.r",
     "varRefreshCmd": "cat(var_dic_list()) "
    }
   },
   "types_to_exclude": [
    "module",
    "function",
    "builtin_function_or_method",
    "instance",
    "_Feature"
   ],
   "window_display": false
  }
 },
 "nbformat": 4,
 "nbformat_minor": 1
}
